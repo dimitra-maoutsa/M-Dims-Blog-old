{
  "nbformat": 4,
  "nbformat_minor": 0,
  "metadata": {
    "colab": {
      "name": "2021-08-03-Testing.ipynb",
      "provenance": [],
      "collapsed_sections": []
    },
    "kernelspec": {
      "name": "python3",
      "display_name": "Python 3"
    },
    "language_info": {
      "name": "python"
    }
  },
  "cells": [
    {
      "cell_type": "markdown",
      "metadata": {
        "id": "-G2yMN3gGUif"
      },
      "source": [
        "# Probability flow dynamics for constraining stochastic nonlinear systems\n",
        "> Detailed description of Deterministic Particle Flow control of (upcoming paper) on controling stochastic nonlinear systems by deterministacally perturbing their dynamics.\n",
        "\n",
        "- toc: true\n",
        "- branch: master\n",
        "- badges: true\n",
        "- comments: true\n",
        "- categories: [jupyter]\n",
        "- image: images/landscape_r.png\n",
        "- hide: false\n",
        "- search_exclude: false\n",
        "- metadata_key1: particles\n",
        "- metadata_key2: stochastic_control\n",
        "- metadata_key3: probability_flow\n"
      ]
    },
    {
      "cell_type": "markdown",
      "metadata": {
        "id": "M_31waBkWYNU"
      },
      "source": [
        "## **Dynamics of constrained densities**\n",
        "\n",
        "Biological and physical systems are often subjected to intrinsic or extrinsic noise sources that influence their dynamics. Characteristic examples include molecular reactions and chemical kinetics [CITE](#cite-gillespie2003improved), populations of animal species, biological neurons [CITE](#cite-saarinen2008stochastic), and evolution [CITE](#cite-lande2003stochastic),[CITE](#cite-takahata1975effect).\n",
        " Stochastic differential equations (SDEs) effectively capture the phenomenology of the dynamics of such systems, at different precision scales \n",
        " by both considering deterministic and stochastic forces affecting their state variables $X_t \\in  \\mathcal{R}^d$ following\n",
        "\\begin{equation} \\tag{1}\n",
        "  dX_t = f(X_t,t) dt  + \\sigma dW_t. \n",
        "\\end{equation}"
      ]
    }
  ]
}
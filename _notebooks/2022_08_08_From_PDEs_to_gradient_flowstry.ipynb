{
  "nbformat": 4,
  "nbformat_minor": 0,
  "metadata": {
    "colab": {
      "provenance": []
    },
    "kernelspec": {
      "name": "python3",
      "display_name": "Python 3"
    },
    "language_info": {
      "name": "python"
    }
  },
  "cells": [
    {
      "cell_type": "markdown",
      "source": [
        "# From PDEs to gradient flows for deterministic particle dynamics\n",
        "> Introduction to deterministic particle methods for PDEs.\n",
        "\n",
        "- toc: true\n",
        "- branch: master\n",
        "- badges: true\n",
        "- comments: true\n",
        "- categories: [jupyter]\n",
        "- hide: false\n",
        "- search_exclude: false\n",
        "- metadata_key1: particles\n",
        "- metadata_key2: Wasserstein\n",
        "- metadata_key3: probability_flow\n"
      ],
      "metadata": {
        "id": "VYDNe0S4JTYP"
      }
    }
  ]
}
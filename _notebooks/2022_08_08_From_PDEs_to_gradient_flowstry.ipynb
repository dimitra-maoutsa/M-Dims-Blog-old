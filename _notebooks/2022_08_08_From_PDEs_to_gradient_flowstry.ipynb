{  
  "cells": [
    {
      "cell_type": "markdown",
      "source": [
        "# From PDEs to gradient flows for deterministic particle dynamics\n",
        "> Introduction to deterministic particle methods for PDEs.\n",
        "\n",
        "- toc: true\n",
        "- branch: master\n",
        "- badges: true\n",
        "- comments: true\n",
        "- categories: [jupyter]\n",
        "- hide: false\n",
        "- search_exclude: false\n",
        "- metadata_key1: particles\n",
        "- metadata_key2: Wasserstein\n",
        "- metadata_key3: probability_flow\n"
      ],
      "metadata": {
        "id": "VYDNe0S4JTYP"
      }
    }
  ]
}
